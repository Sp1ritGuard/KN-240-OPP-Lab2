{
 "cells": [
  {
   "cell_type": "markdown",
   "metadata": {},
   "source": [
    "# Знайомство з основними типами даних у Python"
   ]
  },
  {
   "cell_type": "code",
   "execution_count": 1,
   "metadata": {},
   "outputs": [
    {
     "name": "stdout",
     "output_type": "stream",
     "text": [
      "Змінна a (str): змінна з текстом\n",
      "Змінна b (int): 1\n",
      "Змінна b1 (float): 1.1\n",
      "Список c (list): ['a', 1, 1.25, 'Слово', 'змінна з текстом']\n",
      "Словник d (dict): {'a': 'Слово', 'b': 1, 'змінна з текстом': 1}\n",
      "Кортеж e (tuple): ('a', 'змінна з текстом')\n",
      "Набір f (set): {'ss', 'змінна з текстом1'}\n"
     ]
    }
   ],
   "source": [
    "\n",
    "# Змінні різних типів\n",
    "a = \"змінна з текстом\"  # str - рядок\n",
    "b = 1  # int - ціле число\n",
    "b1 = 1.1  # float - число з плаваючою точкою\n",
    "c = [\"a\", 1, 1.25, \"Слово\", a]  # list - список\n",
    "d = {\"a\": \"Слово\", \"b\": 1, a: b}  # dict - словник\n",
    "e = (\"a\", a)  # tuple - кортеж\n",
    "f = {\"ss\", a + str(b)}  # set - набір (перетворення int на str, щоб уникнути помилки)\n",
    "\n",
    "# Виведення змінних для перевірки\n",
    "print(\"Змінна a (str):\", a)\n",
    "print(\"Змінна b (int):\", b)\n",
    "print(\"Змінна b1 (float):\", b1)\n",
    "print(\"Список c (list):\", c)\n",
    "print(\"Словник d (dict):\", d)\n",
    "print(\"Кортеж e (tuple):\", e)\n",
    "print(\"Набір f (set):\", f)\n"
   ]
  },
  {
   "cell_type": "markdown",
   "metadata": {},
   "source": [
    "# Виведення вбудованих констант"
   ]
  },
  {
   "cell_type": "code",
   "execution_count": 2,
   "metadata": {},
   "outputs": [
    {
     "name": "stdout",
     "output_type": "stream",
     "text": [
      "Перша константа: True\n",
      "І можна так робити вивід? False\n",
      "Константа None: None\n"
     ]
    }
   ],
   "source": [
    "\n",
    "print(\"Перша константа:\", True)  # Булеве значення True\n",
    "print(f\"І можна так робити вивід? {False}\")  # Булеве значення False\n",
    "print(\"Константа None:\", None)  # Спеціальне значення None\n"
   ]
  },
  {
   "cell_type": "markdown",
   "metadata": {},
   "source": [
    "# Виведення результатів роботи вбудованих функцій"
   ]
  },
  {
   "cell_type": "code",
   "execution_count": 3,
   "metadata": {},
   "outputs": [
    {
     "name": "stdout",
     "output_type": "stream",
     "text": [
      "Модуль числа -12.5: 12.5 є рівним 12.5\n",
      "Довжина списку [1, 2, 3, 4]: 4\n",
      "Середнє значення чисел [1, 2, 3, 4]: 2.5\n"
     ]
    }
   ],
   "source": [
    "# Виведення результатів роботи вбудованих функцій\n",
    "print(\"Модуль числа -12.5:\", abs(-12.5), f\"є рівним {abs(12.5)}\")  # abs - модуль числа\n",
    "print(\"Довжина списку [1, 2, 3, 4]:\", len([1, 2, 3, 4]))  # len - довжина списку\n",
    "print(\"Середнє значення чисел [1, 2, 3, 4]:\", sum([1, 2, 3, 4]) / len([1, 2, 3, 4]))  # обчислення середнього\n"
   ]
  },
  {
   "cell_type": "markdown",
   "metadata": {},
   "source": [
    "# Приклад циклу for,while"
   ]
  },
  {
   "cell_type": "code",
   "execution_count": 4,
   "metadata": {},
   "outputs": [
    {
     "name": "stdout",
     "output_type": "stream",
     "text": [
      "На позиції 0 знаходиться буква a\n",
      "На позиції 1 знаходиться буква b\n",
      "На позиції 2 знаходиться буква c\n",
      "\n",
      "Цикл while:\n",
      "Це ітерація номер 0\n",
      "Це ітерація номер 1\n",
      "Це ітерація номер 2\n",
      "\n",
      "Квадрати чисел від 1 до 5:\n",
      "Квадрат числа 1 дорівнює 1\n",
      "Квадрат числа 2 дорівнює 4\n",
      "Квадрат числа 3 дорівнює 9\n",
      "Квадрат числа 4 дорівнює 16\n",
      "Квадрат числа 5 дорівнює 25\n"
     ]
    }
   ],
   "source": [
    "# Приклад циклу for\n",
    "letters = [\"a\", \"b\", \"c\"]\n",
    "for i in range(len(letters)):\n",
    "    print(f\"На позиції {i} знаходиться буква {letters[i]}\")\n",
    "\n",
    "# Приклад циклу while\n",
    "i = 0\n",
    "print(\"\\nЦикл while:\")\n",
    "while i < 3:\n",
    "    print(f\"Це ітерація номер {i}\")\n",
    "    i += 1  # Збільшення значення i на 1\n",
    "\n",
    "# Інший приклад циклу for для виведення квадратів чисел\n",
    "print(\"\\nКвадрати чисел від 1 до 5:\")\n",
    "for num in range(1, 6):\n",
    "    print(f\"Квадрат числа {num} дорівнює {num ** 2}\")\n"
   ]
  },
  {
   "cell_type": "markdown",
   "metadata": {},
   "source": [
    "# Знайомлення з розгалуженням"
   ]
  },
  {
   "cell_type": "code",
   "execution_count": 5,
   "metadata": {},
   "outputs": [
    {
     "name": "stdout",
     "output_type": "stream",
     "text": [
      "Значить A=True\n",
      "Число дорівнює 15\n",
      "Привіт!\n"
     ]
    }
   ],
   "source": [
    "# Приклад простого розгалуження\n",
    "A = True\n",
    "print(\"Значить A=True\" if A else \"Значить A=False\")\n",
    "\n",
    "# Приклад з використанням чисел\n",
    "number = 15\n",
    "if number < 10:\n",
    "    print(\"Число менше за 10\")\n",
    "elif number == 15:\n",
    "    print(\"Число дорівнює 15\")\n",
    "else:\n",
    "    print(\"Число більше за 10\")\n",
    "\n",
    "# Приклад з використанням рядків\n",
    "user_input = \"hello\"\n",
    "if user_input == \"hello\":\n",
    "    print(\"Привіт!\")\n",
    "elif user_input == \"bye\":\n",
    "    print(\"До побачення!\")\n",
    "else:\n",
    "    print(\"Я не зрозумів, що ви сказали.\")\n"
   ]
  },
  {
   "cell_type": "markdown",
   "metadata": {},
   "source": [
    "# Приклад з try-except-finally"
   ]
  },
  {
   "cell_type": "code",
   "execution_count": 6,
   "metadata": {},
   "outputs": [
    {
     "name": "stdout",
     "output_type": "stream",
     "text": [
      "Помилка: division by zero\n",
      "Цей блок виконується завжди, незалежно від помилки.\n"
     ]
    }
   ],
   "source": [
    "A = 0\n",
    "\n",
    "try:\n",
    "    print(\"Що буде якщо\", 10 / A, \"?\")  # Спроба ділення на нуль\n",
    "except ZeroDivisionError as e:  # Обробка специфічної помилки ділення на нуль\n",
    "    print(\"Помилка:\", e)  # Виведе повідомлення про помилку\n",
    "except Exception as e:  # Обробка будь-якої іншої помилки\n",
    "    print(\"Сталася інша помилка:\", e)\n",
    "finally:\n",
    "    print(\"Цей блок виконується завжди, незалежно від помилки.\")\n"
   ]
  },
  {
   "cell_type": "markdown",
   "metadata": {},
   "source": [
    "# Контекст менеджери"
   ]
  },
  {
   "cell_type": "code",
   "execution_count": 9,
   "metadata": {},
   "outputs": [
    {
     "name": "stdout",
     "output_type": "stream",
     "text": [
      "Поточний каталог: c:\\Users\\Acer\\Documents\\Git\n",
      "Сталася помилка: [Errno 2] No such file or directory: 'test.txt'\n"
     ]
    }
   ],
   "source": [
    "import os\n",
    "\n",
    "file_path = \"test.txt\"  # Назва файлу\n",
    "\n",
    "\n",
    "print(\"Поточний каталог:\", os.getcwd())\n",
    "\n",
    "# Створення або відкриття файлу для запису\n",
    "try:\n",
    "    with open(file_path, 'a', encoding='utf-8') as f:\n",
    "        f.write(\"\\n\\tДописуємо цю стрічку\")\n",
    "        f.write(\"\\nІ ще одну\")\n",
    "    print(\"Файл успішно оновлено.\")\n",
    "except Exception as e:\n",
    "    print(\"Сталася помилка:\", e)\n",
    "\n"
   ]
  },
  {
   "cell_type": "markdown",
   "metadata": {},
   "source": [
    "# Безіменні функції"
   ]
  },
  {
   "cell_type": "code",
   "execution_count": 10,
   "metadata": {},
   "outputs": [
    {
     "name": "stdout",
     "output_type": "stream",
     "text": [
      "Квадрат числа 5: 25\n",
      "Це просто функція: <function <lambda> at 0x000001F1515E39C0>\n",
      "Це її виклик: Цей код написав: Назар Рак\n"
     ]
    }
   ],
   "source": [
    "# Лямбда-функція для обчислення квадрату числа\n",
    "square = lambda x: x ** 2\n",
    "\n",
    "# Виклик лямбда-функції\n",
    "print(\"Квадрат числа 5:\", square(5))  \n",
    "\n",
    "# Лямбда-функція для об'єднання імен\n",
    "this_is_lambda = lambda first, last: f'Цей код написав: {first} {last}'\n",
    "\n",
    "# Виклик лямбда-функції\n",
    "print(\"Це просто функція:\", this_is_lambda)  \n",
    "print(\"Це її виклик:\", this_is_lambda('Назар', 'Рак'))  \n"
   ]
  }
 ],
 "metadata": {
  "kernelspec": {
   "display_name": "Python 3",
   "language": "python",
   "name": "python3"
  },
  "language_info": {
   "codemirror_mode": {
    "name": "ipython",
    "version": 3
   },
   "file_extension": ".py",
   "mimetype": "text/x-python",
   "name": "python",
   "nbconvert_exporter": "python",
   "pygments_lexer": "ipython3",
   "version": "3.13.0rc2"
  }
 },
 "nbformat": 4,
 "nbformat_minor": 2
}
